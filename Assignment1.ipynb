{
 "cells": [
  {
   "cell_type": "markdown",
   "metadata": {},
   "source": [
    "# Assignment 1 - Introduction to Python"
   ]
  },
  {
   "cell_type": "markdown",
   "metadata": {},
   "source": [
    "## Part 1\n",
    "* Assign x the value 11\n",
    "* Compute and print x x squared, x cubed and x to the 20th power.\n",
    "* Compute x divided by 7 and then multiply the result by 7.  Does the result have the same value as x.\n",
    "* Redo the previous parts but assign x the floating point value 7.0\n",
    "\n",
    "_After the code section, create a MarkDown section and explain your results.  Do you expect the same results if you use // instead of /? _"
   ]
  },
  {
   "cell_type": "markdown",
   "metadata": {},
   "source": [
    "## Part 2\n",
    "* Ask the user for a string and assign it to `numbers`\n",
    "* Split `numbers` into a list\n",
    "* Iterate over the list and count the number of words that end with \"0\", contain \"34\", and meet neither condition.   \n",
    "* print the results.\n",
    "\n",
    "_After the code section, create a MarkDown section and explain discuss how you would approach the counting if you converted the list into integers._"
   ]
  },
  {
   "cell_type": "markdown",
   "metadata": {},
   "source": [
    "## Part 3\n",
    "Use a for loop to compute and print $log(n^2)$ and $2 log(n)$ where n starts at 1 and ends at 20. Print true if the values are identical. \n",
    "\n",
    "_After the code section, create a MarkDown section and explain discuss the results if n has the value -5_"
   ]
  },
  {
   "cell_type": "markdown",
   "metadata": {},
   "source": [
    "## Part 4\n",
    "* Ask the user for a numeric value x.\n",
    "* Use a while loop to compute and print a sequence of values where the new value is based on the old value and uses the following formula: $x_{new} = x_{old} - (x_{old}^2-5)/(2x_{old})$\n",
    "* Continue iterating as long as the absolute value of the difference between the old and new values is greater than 0.000001.  _Use the abs() function._\n",
    "* After the code section, create a MarkDown section and give the results of trying different starting values of x, some suggestions are\n",
    "-100, -20, -10, -5, -3, -2, -1, 0, 1, 2, 3, 5, 10, 20, 100. Do you always get the same value?\n",
    "\n",
    "Note: This will compute the square root of 5 using the Newton-Raphson method.  It requires Calculus, but if you want to learn about finding   zeros of a function it is a good place to start. Also, it is relevant to techniques that we will use later in the course.\n",
    "\n",
    "\n",
    "    "
   ]
  },
  {
   "cell_type": "markdown",
   "metadata": {},
   "source": [
    "## Bonus\n",
    "The number of ways to choose 4 items from n without repetition is given by the formula  $C(n,4) = n!\\over{(n-4)! \\times 4!}$.  \n",
    "\n",
    "* Ask the user for an integer value and assign it to n.\n",
    "* Use loops to compute n factorial (the product of all the values from 1 to n) and n-4 factorial.\n",
    "* Use the two computed values to find the value of C(n,4) and print it.\n",
    "* Convert the computed value to a string and assign it to `text`\n",
    "* Use a for loop with `text` to compute and then print the number of each of the digits in the string.  (For example, if `text` is \"12113305\" you would print that there is one 0, three 1's, one 2, two 3's, zero 4's, one 5, zero 6's, zero 7's, zero 8's, zero 9's)\n",
    "\n",
    "In a new Markdown section discuss the following questions.\n",
    "* How large a value of n can you use before you experience computational issues?  What is the problem python reports?\n",
    "* As n increases, how does the computed value change?\n",
    "* Looking at your computed values, are there some digits that have a higher or lower likelyhood?\n",
    "* Are there more evens or odds?\n"
   ]
  },
  {
   "cell_type": "code",
   "execution_count": null,
   "metadata": {},
   "outputs": [],
   "source": []
  }
 ],
 "metadata": {
  "kernelspec": {
   "display_name": "Python 3",
   "language": "python",
   "name": "python3"
  },
  "language_info": {
   "codemirror_mode": {
    "name": "ipython",
    "version": 3
   },
   "file_extension": ".py",
   "mimetype": "text/x-python",
   "name": "python",
   "nbconvert_exporter": "python",
   "pygments_lexer": "ipython3",
   "version": "3.9.0"
  }
 },
 "nbformat": 4,
 "nbformat_minor": 4
}
